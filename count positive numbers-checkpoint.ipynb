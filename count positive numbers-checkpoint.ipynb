{
 "cells": [
  {
   "cell_type": "code",
   "execution_count": 2,
   "id": "a619cca1",
   "metadata": {},
   "outputs": [
    {
     "name": "stdout",
     "output_type": "stream",
     "text": [
      "Total positive number count is:  6\n"
     ]
    }
   ],
   "source": [
    "#given a list of numbers, count how many are positive.\n",
    "#numbers= [1,-2,3,-4,5,6,-7,-8,9,10]\n",
    "\n",
    "numbers= [1,-2,3,-4,5,6,-7,-8,9,10]\n",
    "positive_number_count=0\n",
    "for i in numbers:\n",
    "    if i>0:\n",
    "        positive_number_count+= 1\n",
    "print(\"Total positive number count is: \", positive_number_count)"
   ]
  },
  {
   "cell_type": "code",
   "execution_count": null,
   "id": "3f9aa24f",
   "metadata": {},
   "outputs": [],
   "source": []
  }
 ],
 "metadata": {
  "kernelspec": {
   "display_name": "Python 3 (ipykernel)",
   "language": "python",
   "name": "python3"
  },
  "language_info": {
   "codemirror_mode": {
    "name": "ipython",
    "version": 3
   },
   "file_extension": ".py",
   "mimetype": "text/x-python",
   "name": "python",
   "nbconvert_exporter": "python",
   "pygments_lexer": "ipython3",
   "version": "3.11.3"
  }
 },
 "nbformat": 4,
 "nbformat_minor": 5
}
